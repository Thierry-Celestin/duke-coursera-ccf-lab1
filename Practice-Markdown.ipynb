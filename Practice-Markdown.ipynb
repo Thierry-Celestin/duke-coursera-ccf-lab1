{
 "cells": [
  {
   "cell_type": "code",
   "execution_count": 1,
   "id": "74cc9ef0-7037-4f5e-9b2c-dde6042c10a1",
   "metadata": {},
   "outputs": [
    {
     "name": "stdout",
     "output_type": "stream",
     "text": [
      "hello world\n"
     ]
    }
   ],
   "source": [
    "print(\"hello world\")"
   ]
  },
  {
   "cell_type": "markdown",
   "id": "110d5be1-e213-49f5-af44-54c2f85d32a8",
   "metadata": {},
   "source": [
    "# Cloud computing basics"
   ]
  },
  {
   "cell_type": "markdown",
   "id": "475a8d00-1d97-4f93-8faf-5be06fbaefaa",
   "metadata": {},
   "source": [
    " <ins>Folow up</ins>\n",
    " ***Follow up***\n",
    " ~~Follow up~~\n",
    " `#0969DA`\n",
    " "
   ]
  },
  {
   "cell_type": "code",
   "execution_count": null,
   "id": "914a2b5f-a920-4a60-b6c3-1141aae06a41",
   "metadata": {},
   "outputs": [],
   "source": []
  }
 ],
 "metadata": {
  "kernelspec": {
   "display_name": "Python 3 (ipykernel)",
   "language": "python",
   "name": "python3"
  },
  "language_info": {
   "codemirror_mode": {
    "name": "ipython",
    "version": 3
   },
   "file_extension": ".py",
   "mimetype": "text/x-python",
   "name": "python",
   "nbconvert_exporter": "python",
   "pygments_lexer": "ipython3",
   "version": "3.10.13"
  }
 },
 "nbformat": 4,
 "nbformat_minor": 5
}
