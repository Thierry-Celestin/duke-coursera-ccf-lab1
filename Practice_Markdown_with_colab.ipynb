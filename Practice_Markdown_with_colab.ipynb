{
  "nbformat": 4,
  "nbformat_minor": 0,
  "metadata": {
    "colab": {
      "provenance": [],
      "authorship_tag": "ABX9TyNhmTmsB7EAtklgzPImNY0B",
      "include_colab_link": true
    },
    "kernelspec": {
      "name": "python3",
      "display_name": "Python 3"
    },
    "language_info": {
      "name": "python"
    }
  },
  "cells": [
    {
      "cell_type": "markdown",
      "metadata": {
        "id": "view-in-github",
        "colab_type": "text"
      },
      "source": [
        "<a href=\"https://colab.research.google.com/github/Thierry-Celestin/duke-coursera-ccf-lab1/blob/main/Practice_Markdown_with_colab.ipynb\" target=\"_parent\"><img src=\"https://colab.research.google.com/assets/colab-badge.svg\" alt=\"Open In Colab\"/></a>"
      ]
    },
    {
      "cell_type": "code",
      "execution_count": 1,
      "metadata": {
        "colab": {
          "base_uri": "https://localhost:8080/"
        },
        "id": "G39clAu9A9Qn",
        "outputId": "e94a7e0f-f69a-4d20-da90-83aa7dfd75bc"
      },
      "outputs": [
        {
          "output_type": "stream",
          "name": "stdout",
          "text": [
            "hello world\n"
          ]
        }
      ],
      "source": [
        "print(\"hello world\")"
      ]
    },
    {
      "cell_type": "markdown",
      "source": [
        "# Cloud computing basics"
      ],
      "metadata": {
        "id": "Q5lg40BRBWOf"
      }
    },
    {
      "cell_type": "markdown",
      "source": [
        " <ins>Folow up</ins>\n",
        " ***Follow up***\n",
        " ~~Follow up~~\n",
        " `#0969DA`\n",
        ""
      ],
      "metadata": {
        "id": "8ADATQD6BkD4"
      }
    },
    {
      "cell_type": "code",
      "source": [],
      "metadata": {
        "id": "L7IMHLdYBhOp"
      },
      "execution_count": null,
      "outputs": []
    }
  ]
}